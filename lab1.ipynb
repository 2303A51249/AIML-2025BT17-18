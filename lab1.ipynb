{
  "nbformat": 4,
  "nbformat_minor": 0,
  "metadata": {
    "colab": {
      "provenance": [],
      "authorship_tag": "ABX9TyP3WyQbq0HINSJLwV2PLKtF",
      "include_colab_link": true
    },
    "kernelspec": {
      "name": "python3",
      "display_name": "Python 3"
    },
    "language_info": {
      "name": "python"
    }
  },
  "cells": [
    {
      "cell_type": "markdown",
      "metadata": {
        "id": "view-in-github",
        "colab_type": "text"
      },
      "source": [
        "<a href=\"https://colab.research.google.com/github/2303A51249/AIML-2025BT17-18/blob/main/lab1.ipynb\" target=\"_parent\"><img src=\"https://colab.research.google.com/assets/colab-badge.svg\" alt=\"Open In Colab\"/></a>"
      ]
    },
    {
      "cell_type": "code",
      "execution_count": 2,
      "metadata": {
        "colab": {
          "base_uri": "https://localhost:8080/"
        },
        "id": "dyDysDvFjEYM",
        "outputId": "c9a8ac89-a268-462d-bf47-167d6dfd9ebc"
      },
      "outputs": [
        {
          "output_type": "stream",
          "name": "stdout",
          "text": [
            "<class 'list'>\n",
            "<class 'numpy.ndarray'>\n",
            "Addition of Two: [1 2 3 4 5] + [ 6  7  8  9 10] = [ 7  9 11 13 15]\n",
            "Sin: [ 0.84147098  0.90929743  0.14112001 -0.7568025  -0.95892427]\n",
            "Log: [0.         0.69314718 1.09861229 1.38629436 1.60943791]\n",
            "Log2: [0.         1.         1.5849625  2.         2.32192809]\n",
            "Exp: [  2.71828183   7.3890561   20.08553692  54.59815003 148.4131591 ]\n"
          ]
        }
      ],
      "source": [
        "import numpy as np\n",
        "\n",
        "\n",
        "list1 = [1, 2, 3, 4, 5]\n",
        "list2 = [6, 7, 8, 9, 10]\n",
        "\n",
        "\n",
        "array1 = np.array(list1)\n",
        "array2 = np.array(list2)\n",
        "\n",
        "print(type(list1))\n",
        "print(type(array1))\n",
        "\n",
        "\n",
        "array_mul = array1 * array2\n",
        "array_div = array1 / array2\n",
        "array_pow = array1 ** 2\n",
        "\n",
        "\n",
        "print(f\"Addition of Two: {array1} + {array2} = {array1 + array2}\")\n",
        "\n",
        "\n",
        "array_sin = np.sin(array1)\n",
        "array_log = np.log(array1)\n",
        "array_log2 = np.log2(array1)\n",
        "array_exp = np.exp(array1)\n",
        "\n",
        "\n",
        "print(\"Sin:\", array_sin)\n",
        "print(\"Log:\", array_log)\n",
        "print(\"Log2:\", array_log2)\n",
        "print(\"Exp:\", array_exp)\n"
      ]
    }
  ]
}